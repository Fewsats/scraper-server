{
 "cells": [
  {
   "cell_type": "code",
   "execution_count": 1,
   "metadata": {},
   "outputs": [],
   "source": [
    "import trafilatura\n"
   ]
  },
  {
   "cell_type": "code",
   "execution_count": 2,
   "metadata": {},
   "outputs": [
    {
     "name": "stdout",
     "output_type": "stream",
     "text": [
      "Simple credit card payments for L402 content\n",
      "Pay for any L402 content using your credit card. No cryptocurrency knowledge required.\n",
      "Get startedEasy payments\n",
      "Use your credit card to pay for L402 content without dealing with cryptocurrency.\n",
      "Credential storage\n",
      "We securely store your L402 credentials for easy access across multiple sites.\n",
      "API support\n",
      "Integrate Hub into your applications using our API. Automate payments and workflows.\n",
      "Frequently Asked Questions\n",
      "What is L402 content?\n",
      "L402 is a protocol that allows content creators to monetize their digital content easily. Hub makes it simple to pay for this content using your credit card.\n",
      "Do I need to understand cryptocurrency to use Hub?\n",
      "No, Hub allows you to pay with your regular credit card. We handle the complexities behind the scenes.\n",
      "Can I use Hub programmatically?\n",
      "Yes, we offer an API that allows you to integrate Hub payments into your applications, automate workflows, or even use it with AI agents.\n",
      "Why is there a $20 minimum payment, and what happens to the extra amount?\n",
      "We have a $20 minimum payment for credit card transactions to cover processing fees and provide a smoother experience. Here's how it works:\n",
      "- If your purchase is less than $20, the remaining amount is added to your balance as credit.\n",
      "- This credit can be used for future purchases on any L402 content through Hub.\n",
      "- The minimum helps reduce transaction fees, allowing us to offer better rates for content creators and users.\n",
      "- Your balance never expires, so you can use it whenever you want.\n",
      "This system ensures efficient payments while giving you the flexibility to access various L402 content without multiple small transactions.\n"
     ]
    }
   ],
   "source": [
    "\n",
    "url = \"https://paywithhub.com\"\n",
    "downloaded = trafilatura.fetch_url(url)\n",
    "text = trafilatura.extract(downloaded)\n",
    "\n",
    "print(text)"
   ]
  },
  {
   "cell_type": "code",
   "execution_count": 3,
   "metadata": {},
   "outputs": [
    {
     "name": "stdout",
     "output_type": "stream",
     "text": [
      "---\n",
      "title: Simple credit card payments for L402 content\n",
      "date: 2024-01-01\n",
      "---\n",
      "Simple credit card payments for L402 content\n",
      "Pay for any L402 content using your credit card. No cryptocurrency knowledge required.\n",
      "Get startedEasy payments\n",
      "Use your credit card to pay for L402 content without dealing with cryptocurrency.\n",
      "Credential storage\n",
      "We securely store your L402 credentials for easy access across multiple sites.\n",
      "API support\n",
      "Integrate Hub into your applications using our API. Automate payments and workflows.\n",
      "Frequently Asked Questions\n",
      "What is L402 content?\n",
      "L402 is a protocol that allows content creators to monetize their digital content easily. Hub makes it simple to pay for this content using your credit card.\n",
      "Do I need to understand cryptocurrency to use Hub?\n",
      "No, Hub allows you to pay with your regular credit card. We handle the complexities behind the scenes.\n",
      "Can I use Hub programmatically?\n",
      "Yes, we offer an API that allows you to integrate Hub payments into your applications, automate workflows, or even use it with AI agents.\n",
      "Why is there a $20 minimum payment, and what happens to the extra amount?\n",
      "We have a $20 minimum payment for credit card transactions to cover processing fees and provide a smoother experience. Here's how it works:\n",
      "- If your purchase is less than $20, the remaining amount is added to your balance as credit.\n",
      "- This credit can be used for future purchases on any L402 content through Hub.\n",
      "- The minimum helps reduce transaction fees, allowing us to offer better rates for content creators and users.\n",
      "- Your balance never expires, so you can use it whenever you want.\n",
      "This system ensures efficient payments while giving you the flexibility to access various L402 content without multiple small transactions.\n"
     ]
    }
   ],
   "source": [
    "print(trafilatura.extract(downloaded, with_metadata=True))"
   ]
  },
  {
   "cell_type": "code",
   "execution_count": 4,
   "metadata": {},
   "outputs": [
    {
     "name": "stdout",
     "output_type": "stream",
     "text": [
      "---\n",
      "title: Simple credit card payments for L402 content\n",
      "date: 2024-01-01\n",
      "---\n",
      "# Simple credit card payments for L402 content\n",
      "\n",
      "Pay for any L402 content using your credit card. No cryptocurrency knowledge required.\n",
      "\n",
      "Get started## Easy payments\n",
      "\n",
      "Use your credit card to pay for L402 content without dealing with cryptocurrency.\n",
      "\n",
      "## Credential storage\n",
      "\n",
      "We securely store your L402 credentials for easy access across multiple sites.\n",
      "\n",
      "## API support\n",
      "\n",
      "Integrate Hub into your applications using our API. Automate payments and workflows.\n",
      "\n",
      "## Frequently Asked Questions\n",
      "\n",
      "## What is L402 content?\n",
      "\n",
      "L402 is a protocol that allows content creators to monetize their digital content easily. Hub makes it simple to pay for this content using your credit card.\n",
      "\n",
      "## Do I need to understand cryptocurrency to use Hub?\n",
      "\n",
      "No, Hub allows you to pay with your regular credit card. We handle the complexities behind the scenes.\n",
      "\n",
      "## Can I use Hub programmatically?\n",
      "\n",
      "Yes, we offer an API that allows you to integrate Hub payments into your applications, automate workflows, or even use it with AI agents.\n",
      "\n",
      "## Why is there a $20 minimum payment, and what happens to the extra amount?\n",
      "\n",
      "We have a $20 minimum payment for credit card transactions to cover processing fees and provide a smoother experience. Here's how it works:\n",
      "\n",
      "- If your purchase is less than $20, the remaining amount is added to your balance as credit.\n",
      "- This credit can be used for future purchases on any L402 content through Hub.\n",
      "- The minimum helps reduce transaction fees, allowing us to offer better rates for content creators and users.\n",
      "- Your balance never expires, so you can use it whenever you want.\n",
      "\n",
      "This system ensures efficient payments while giving you the flexibility to access various L402 content without multiple small transactions.\n"
     ]
    }
   ],
   "source": [
    "print(trafilatura.extract(downloaded, output_format='markdown', with_metadata=True))"
   ]
  },
  {
   "cell_type": "code",
   "execution_count": 24,
   "metadata": {},
   "outputs": [],
   "source": [
    "import trafilatura\n",
    "from trafilatura.settings import use_config\n",
    "\n",
    "def enhanced_scrape(url, format='markdown'):\n",
    "    if format not in ['markdown', 'json', 'xml']:\n",
    "        raise ValueError(\"Invalid format. Supported formats are markdown, json, and xml\")\n",
    "    \n",
    "    config = use_config()\n",
    "    config.set(\"DEFAULT\", \"EXTRACTION_TIMEOUT\", \"30\")\n",
    "    config.set(\"DEFAULT\", \"MAX_EXTRACTED_SIZE\", \"10000000\")\n",
    "    config.set(\"DEFAULT\", \"PARAGRAPH_PROCESSING\", \"yes\")\n",
    "    \n",
    "    downloaded = trafilatura.fetch_url(url)\n",
    "    content = trafilatura.extract(\n",
    "        downloaded,\n",
    "        no_fallback=True,\n",
    "        output_format=format,\n",
    "        config=config,\n",
    "        include_comments=False,\n",
    "        include_tables=True,\n",
    "        include_images=True,\n",
    "        include_links=True,\n",
    "        favor_precision=True,\n",
    "        include_formatting=True,\n",
    "        with_metadata=True\n",
    "    )\n",
    "    \n",
    "    return content\n"
   ]
  },
  {
   "cell_type": "code",
   "execution_count": 25,
   "metadata": {},
   "outputs": [
    {
     "name": "stdout",
     "output_type": "stream",
     "text": [
      "---\n",
      "title: Simple credit card payments for L402 content\n",
      "date: 2024-01-01\n",
      "---\n",
      "## Easy payments\n",
      "\n",
      "Use your credit card to pay for L402 content without dealing with cryptocurrency.\n",
      "\n",
      "## Credential storage\n",
      "\n",
      "We securely store your L402 credentials for easy access across multiple sites.\n",
      "\n",
      "## API support\n",
      "\n",
      "Integrate Hub into your applications using our API. Automate payments and workflows.\n",
      "\n",
      "## Frequently Asked Questions\n",
      "\n",
      "## What is L402 content?\n",
      "\n",
      "L402 is a protocol that allows content creators to monetize their digital content easily. Hub makes it simple to pay for this content using your credit card.\n",
      "\n",
      "## Do I need to understand cryptocurrency to use Hub?\n",
      "\n",
      "No, Hub allows you to pay with your regular credit card. We handle the complexities behind the scenes.\n",
      "\n",
      "## Can I use Hub programmatically?\n",
      "\n",
      "Yes, we offer an API that allows you to integrate Hub payments into your applications, automate workflows, or even use it with AI agents.\n",
      "\n",
      "## Why is there a $20 minimum payment, and what happens to the extra amount?\n",
      "\n",
      "We have a $20 minimum payment for credit card transactions to cover processing fees and provide a smoother experience. Here's how it works:\n",
      "\n",
      "- If your purchase is less than $20, the remaining amount is added to your balance as credit.\n",
      "- This credit can be used for future purchases on any L402 content through Hub.\n",
      "- The minimum helps reduce transaction fees, allowing us to offer better rates for content creators and users.\n",
      "- Your balance never expires, so you can use it whenever you want.\n",
      "\n",
      "This system ensures efficient payments while giving you the flexibility to access various L402 content without multiple small transactions.\n",
      "\n"
     ]
    }
   ],
   "source": [
    "\n",
    "# Example usage\n",
    "url = \"https://paywithhub.com\"\n",
    "markdown_content = enhanced_scrape(url, 'markdown')\n",
    "print(markdown_content)"
   ]
  },
  {
   "cell_type": "code",
   "execution_count": 26,
   "metadata": {},
   "outputs": [
    {
     "name": "stdout",
     "output_type": "stream",
     "text": [
      "{\"title\": \"Simple credit card payments for L402 content\", \"author\": null, \"hostname\": null, \"date\": \"2024-01-01\", \"fingerprint\": \"95fe911459a6f3c2\", \"id\": null, \"license\": null, \"comments\": null, \"raw_text\": \"Easy payments  Use your credit card to pay for L402 content without dealing with cryptocurrency.  Credential storage  We securely store your L402 credentials for easy access across multiple sites.  API support  Integrate Hub into your applications using our API. Automate payments and workflows.  Frequently Asked Questions  What is L402 content?  L402 is a protocol that allows content creators to monetize their digital content easily. Hub makes it simple to pay for this content using your credit card.  Do I need to understand cryptocurrency to use Hub?  No, Hub allows you to pay with your regular credit card. We handle the complexities behind the scenes.  Can I use Hub programmatically?  Yes, we offer an API that allows you to integrate Hub payments into your applications, automate workflows, or even use it with AI agents.  Why is there a $20 minimum payment, and what happens to the extra amount?  We have a $20 minimum payment for credit card transactions to cover processing fees and provide a smoother experience. Here's how it works:  If your purchase is less than $20, the remaining amount is added to your balance as credit. This credit can be used for future purchases on any L402 content through Hub. The minimum helps reduce transaction fees, allowing us to offer better rates for content creators and users. Your balance never expires, so you can use it whenever you want. This system ensures efficient payments while giving you the flexibility to access various L402 content without multiple small transactions.\", \"text\": \"Easy payments\\nUse your credit card to pay for L402 content without dealing with cryptocurrency.\\nCredential storage\\nWe securely store your L402 credentials for easy access across multiple sites.\\nAPI support\\nIntegrate Hub into your applications using our API. Automate payments and workflows.\\nFrequently Asked Questions\\nWhat is L402 content?\\nL402 is a protocol that allows content creators to monetize their digital content easily. Hub makes it simple to pay for this content using your credit card.\\nDo I need to understand cryptocurrency to use Hub?\\nNo, Hub allows you to pay with your regular credit card. We handle the complexities behind the scenes.\\nCan I use Hub programmatically?\\nYes, we offer an API that allows you to integrate Hub payments into your applications, automate workflows, or even use it with AI agents.\\nWhy is there a $20 minimum payment, and what happens to the extra amount?\\nWe have a $20 minimum payment for credit card transactions to cover processing fees and provide a smoother experience. Here's how it works:\\n- If your purchase is less than $20, the remaining amount is added to your balance as credit.\\n- This credit can be used for future purchases on any L402 content through Hub.\\n- The minimum helps reduce transaction fees, allowing us to offer better rates for content creators and users.\\n- Your balance never expires, so you can use it whenever you want.\\nThis system ensures efficient payments while giving you the flexibility to access various L402 content without multiple small transactions.\", \"language\": null, \"image\": null, \"pagetype\": null, \"filedate\": \"2024-10-10\", \"source\": null, \"source-hostname\": null, \"excerpt\": null, \"categories\": \"\", \"tags\": \"\"}\n"
     ]
    }
   ],
   "source": [
    "\n",
    "# You can also try other formats\n",
    "json_content = enhanced_scrape(url, 'json')\n",
    "print(json_content)\n"
   ]
  },
  {
   "cell_type": "code",
   "execution_count": 27,
   "metadata": {},
   "outputs": [
    {
     "name": "stdout",
     "output_type": "stream",
     "text": [
      "<doc title=\"Simple credit card payments for L402 content\" date=\"2024-01-01\" fingerprint=\"95fe911459a6f3c2\">\n",
      "  <main>\n",
      "    <head rend=\"h2\">Easy payments</head>\n",
      "    <p>Use your credit card to pay for L402 content without dealing with cryptocurrency.</p>\n",
      "    <head rend=\"h2\">Credential storage</head>\n",
      "    <p>We securely store your L402 credentials for easy access across multiple sites.</p>\n",
      "    <head rend=\"h2\">API support</head>\n",
      "    <p>Integrate Hub into your applications using our API. Automate payments and workflows.</p>\n",
      "    <head rend=\"h2\">Frequently Asked Questions</head>\n",
      "    <head class=\"font-semibold cursor-pointer\">What is L402 content?</head>\n",
      "    <p>L402 is a protocol that allows content creators to monetize their digital content easily. Hub makes it simple to pay for this content using your credit card.</p>\n",
      "    <head class=\"font-semibold cursor-pointer\">Do I need to understand cryptocurrency to use Hub?</head>\n",
      "    <p>No, Hub allows you to pay with your regular credit card. We handle the complexities behind the scenes.</p>\n",
      "    <head class=\"font-semibold cursor-pointer\">Can I use Hub programmatically?</head>\n",
      "    <p>Yes, we offer an API that allows you to integrate Hub payments into your applications, automate workflows, or even use it with AI agents.</p>\n",
      "    <head class=\"font-semibold cursor-pointer\">Why is there a $20 minimum payment, and what happens to the extra amount?</head>\n",
      "    <p>We have a $20 minimum payment for credit card transactions to cover processing fees and provide a smoother experience. Here's how it works:</p>\n",
      "    <list rend=\"ul\">\n",
      "      <item>If your purchase is less than $20, the remaining amount is added to your balance as credit.</item>\n",
      "      <item>This credit can be used for future purchases on any L402 content through Hub.</item>\n",
      "      <item>The minimum helps reduce transaction fees, allowing us to offer better rates for content creators and users.</item>\n",
      "      <item>Your balance never expires, so you can use it whenever you want.</item>\n",
      "    </list>\n",
      "    <p>This system ensures efficient payments while giving you the flexibility to access various L402 content without multiple small transactions.</p>\n",
      "  </main>\n",
      "</doc>\n"
     ]
    }
   ],
   "source": [
    "\n",
    "xml_content = enhanced_scrape(url, 'xml')\n",
    "print(xml_content)"
   ]
  },
  {
   "cell_type": "code",
   "execution_count": null,
   "metadata": {},
   "outputs": [],
   "source": []
  },
  {
   "cell_type": "code",
   "execution_count": null,
   "metadata": {},
   "outputs": [],
   "source": []
  }
 ],
 "metadata": {
  "kernelspec": {
   "display_name": "venv",
   "language": "python",
   "name": "python3"
  },
  "language_info": {
   "codemirror_mode": {
    "name": "ipython",
    "version": 3
   },
   "file_extension": ".py",
   "mimetype": "text/x-python",
   "name": "python",
   "nbconvert_exporter": "python",
   "pygments_lexer": "ipython3",
   "version": "3.12.3"
  }
 },
 "nbformat": 4,
 "nbformat_minor": 2
}
